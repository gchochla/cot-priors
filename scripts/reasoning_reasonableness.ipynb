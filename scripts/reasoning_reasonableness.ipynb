{
 "cells": [
  {
   "cell_type": "code",
   "execution_count": 1,
   "metadata": {},
   "outputs": [],
   "source": [
    "import pandas as pd"
   ]
  },
  {
   "cell_type": "code",
   "execution_count": 10,
   "metadata": {},
   "outputs": [
    {
     "name": "stdout",
     "output_type": "stream",
     "text": [
      "/proj/chochlak/llm-subjective/scripts/cot-prior\n"
     ]
    }
   ],
   "source": [
    "!pwd"
   ]
  },
  {
   "cell_type": "code",
   "execution_count": 14,
   "metadata": {},
   "outputs": [],
   "source": [
    "fns = [\n",
    "    \"gpt-4o-15-shot-goemotions-prior-indexed_metrics.csv\",\n",
    "    \"gpt-4o-15-shot-mfrc-prior-indexed_metrics.csv\",\n",
    "    \"gpt-4o-mini-15-shot-goemotions-indexed_metrics.csv\",\n",
    "    \"gpt-4o-mini-15-shot-mfrc-indexed_metrics.csv\",\n",
    "    \"llama3-70b-15-shot-goemotions-indexed_metrics.csv\",\n",
    "    \"llama3-70b-15-shot-mfrc-indexed_metrics.csv\"\n",
    "]\n",
    "\n",
    "folder = \"../../logs/analysis/cot/\""
   ]
  },
  {
   "cell_type": "code",
   "execution_count": 15,
   "metadata": {},
   "outputs": [],
   "source": [
    "df = {\n",
    "    f: pd.read_csv(folder + f) for f in fns\n",
    "}"
   ]
  },
  {
   "cell_type": "code",
   "execution_count": 17,
   "metadata": {},
   "outputs": [
    {
     "name": "stdout",
     "output_type": "stream",
     "text": [
      "gpt-4o-15-shot-goemotions-prior-indexed_metrics.csv: 0.89, 0.94\n",
      "gpt-4o-15-shot-mfrc-prior-indexed_metrics.csv: 0.81, 0.48\n",
      "gpt-4o-mini-15-shot-goemotions-indexed_metrics.csv: 0.95, 0.92\n",
      "gpt-4o-mini-15-shot-mfrc-indexed_metrics.csv: 0.99, 0.87\n",
      "llama3-70b-15-shot-goemotions-indexed_metrics.csv: 0.9, 0.98\n",
      "llama3-70b-15-shot-mfrc-indexed_metrics.csv: 0.92, 0.91\n"
     ]
    }
   ],
   "source": [
    "for f in fns:\n",
    "    print(f + \": \", end=\"\")\n",
    "    print(df[f].reasoning.mean(), end=\", \")\n",
    "    print(df[f].label.mean())"
   ]
  },
  {
   "cell_type": "code",
   "execution_count": null,
   "metadata": {},
   "outputs": [],
   "source": []
  }
 ],
 "metadata": {
  "kernelspec": {
   "display_name": ".venv",
   "language": "python",
   "name": "python3"
  },
  "language_info": {
   "codemirror_mode": {
    "name": "ipython",
    "version": 3
   },
   "file_extension": ".py",
   "mimetype": "text/x-python",
   "name": "python",
   "nbconvert_exporter": "python",
   "pygments_lexer": "ipython3",
   "version": "3.10.14"
  }
 },
 "nbformat": 4,
 "nbformat_minor": 2
}
